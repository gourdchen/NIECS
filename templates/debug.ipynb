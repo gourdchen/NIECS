{
 "cells": [
  {
   "cell_type": "code",
   "execution_count": 23,
   "metadata": {},
   "outputs": [],
   "source": [
    "import os\n",
    "from neuromaps.datasets import fetch_fsaverage,fetch_fslr\n",
    "import nibabel as nib"
   ]
  },
  {
   "cell_type": "code",
   "execution_count": 3,
   "metadata": {},
   "outputs": [],
   "source": [
    "base_dir = 'D:/My_Work/NIECS/templates'"
   ]
  },
  {
   "cell_type": "code",
   "execution_count": 5,
   "metadata": {},
   "outputs": [],
   "source": [
    "ress = fetch_fsaverage('3k',data_dir=base_dir + '/data/')"
   ]
  },
  {
   "cell_type": "code",
   "execution_count": 26,
   "metadata": {},
   "outputs": [
    {
     "data": {
      "text/plain": [
       "{'white': Surface(L=WindowsPath('D:/My_Work/NIECS/templates/data/atlases/fsaverage/tpl-fsaverage_den-3k_hemi-L_white.surf.gii'), R=WindowsPath('D:/My_Work/NIECS/templates/data/atlases/fsaverage/tpl-fsaverage_den-3k_hemi-R_white.surf.gii')),\n",
       " 'pial': Surface(L=WindowsPath('D:/My_Work/NIECS/templates/data/atlases/fsaverage/tpl-fsaverage_den-3k_hemi-L_pial.surf.gii'), R=WindowsPath('D:/My_Work/NIECS/templates/data/atlases/fsaverage/tpl-fsaverage_den-3k_hemi-R_pial.surf.gii')),\n",
       " 'inflated': Surface(L=WindowsPath('D:/My_Work/NIECS/templates/data/atlases/fsaverage/tpl-fsaverage_den-3k_hemi-L_inflated.surf.gii'), R=WindowsPath('D:/My_Work/NIECS/templates/data/atlases/fsaverage/tpl-fsaverage_den-3k_hemi-R_inflated.surf.gii')),\n",
       " 'sphere': Surface(L=WindowsPath('D:/My_Work/NIECS/templates/data/atlases/fsaverage/tpl-fsaverage_den-3k_hemi-L_sphere.surf.gii'), R=WindowsPath('D:/My_Work/NIECS/templates/data/atlases/fsaverage/tpl-fsaverage_den-3k_hemi-R_sphere.surf.gii')),\n",
       " 'medial': Surface(L=WindowsPath('D:/My_Work/NIECS/templates/data/atlases/fsaverage/tpl-fsaverage_den-3k_hemi-L_desc-nomedialwall_dparc.label.gii'), R=WindowsPath('D:/My_Work/NIECS/templates/data/atlases/fsaverage/tpl-fsaverage_den-3k_hemi-R_desc-nomedialwall_dparc.label.gii')),\n",
       " 'sulc': Surface(L=WindowsPath('D:/My_Work/NIECS/templates/data/atlases/fsaverage/tpl-fsaverage_den-3k_hemi-L_desc-sulc_midthickness.shape.gii'), R=WindowsPath('D:/My_Work/NIECS/templates/data/atlases/fsaverage/tpl-fsaverage_den-3k_hemi-R_desc-sulc_midthickness.shape.gii')),\n",
       " 'vaavg': Surface(L=WindowsPath('D:/My_Work/NIECS/templates/data/atlases/fsaverage/tpl-fsaverage_den-3k_hemi-L_desc-vaavg_midthickness.shape.gii'), R=WindowsPath('D:/My_Work/NIECS/templates/data/atlases/fsaverage/tpl-fsaverage_den-3k_hemi-R_desc-vaavg_midthickness.shape.gii'))}"
      ]
     },
     "execution_count": 26,
     "metadata": {},
     "output_type": "execute_result"
    }
   ],
   "source": [
    "ress"
   ]
  },
  {
   "cell_type": "code",
   "execution_count": 25,
   "metadata": {},
   "outputs": [
    {
     "data": {
      "text/plain": [
       "<nibabel.gifti.gifti.GiftiImage at 0x10fca009370>"
      ]
     },
     "execution_count": 25,
     "metadata": {},
     "output_type": "execute_result"
    }
   ],
   "source": [
    "nib.load(ress['pial'].L)"
   ]
  },
  {
   "cell_type": "code",
   "execution_count": 28,
   "metadata": {},
   "outputs": [
    {
     "name": "stdout",
     "output_type": "stream",
     "text": [
      "Downloading data from https://files.osf.io/v1/resources/4mw3a/providers/osfstorage/60b684b53a6df1021bd4df2d ...\n"
     ]
    },
    {
     "name": "stderr",
     "output_type": "stream",
     "text": [
      " ...done. (2 seconds, 0 min)\n",
      "Extracting data from D:/My_Work/NIECS/templates/data/7c43e2fa46205f8d4caebed8902e5dbd\\fsLR32k.tar.gz..... done.\n"
     ]
    }
   ],
   "source": [
    "ress = fetch_fslr('32k',data_dir=base_dir + '/data/')"
   ]
  }
 ],
 "metadata": {
  "kernelspec": {
   "display_name": "base",
   "language": "python",
   "name": "python3"
  },
  "language_info": {
   "codemirror_mode": {
    "name": "ipython",
    "version": 3
   },
   "file_extension": ".py",
   "mimetype": "text/x-python",
   "name": "python",
   "nbconvert_exporter": "python",
   "pygments_lexer": "ipython3",
   "version": "3.8.18"
  }
 },
 "nbformat": 4,
 "nbformat_minor": 2
}
